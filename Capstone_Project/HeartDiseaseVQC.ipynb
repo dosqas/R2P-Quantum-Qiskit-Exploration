{
 "cells": [
  {
   "cell_type": "markdown",
   "id": "41dd20eb",
   "metadata": {},
   "source": [
    "# Variational Quantum Classifier for Heart Disease Prediction\n",
    "\n",
    "This notebook implements a Variational Quantum Classifier (VQC) to predict heart disease using the UCI Heart Disease dataset. The implementation follows a structured approach, including:\n",
    "\n",
    "1. **Data Preprocessing**: Preparing the dataset for quantum processing.\n",
    "2. **Quantum Circuit Design**: Defining the feature map and variational ansatz.\n",
    "3. **Training**: Optimizing the variational parameters using gradient descent.\n",
    "4. **Evaluation**: Assessing the model's performance on a test set.\n",
    "\n",
    "The notebook adheres to modern Qiskit practices and provides clear explanations for each step."
   ]
  },
  {
   "cell_type": "markdown",
   "id": "d20c9bf5",
   "metadata": {},
   "source": [
    "---"
   ]
  },
  {
   "cell_type": "markdown",
   "id": "637909b8",
   "metadata": {},
   "source": [
    "## Prerequisites"
   ]
  },
  {
   "cell_type": "markdown",
   "id": "8fae479b",
   "metadata": {
    "vscode": {
     "languageId": "markdown"
    }
   },
   "source": [
    "### Installing Required Packages\n",
    "\n",
    "To ensure all necessary libraries are available for this notebook, we use `pip` to install the required Python packages. \n",
    "\n",
    "This approach guarantees that the environment contains the latest versions of essential tools for quantum computing, data processing, and visualization.  \n",
    "The `%pip` magic command is used within Jupyter notebooks to install packages directly from a notebook cell, making the setup process straightforward and reproducible."
   ]
  },
  {
   "cell_type": "code",
   "execution_count": null,
   "id": "b9edf4d3",
   "metadata": {},
   "outputs": [],
   "source": [
    "# Quantum Computing Framework\n",
    "%pip install qiskit\n",
    "%pip install qiskit-aer\n",
    "%pip install qiskit-ibm-runtime\n",
    "%pip install qiskit[visualization]\n",
    "\n",
    "# Data Science and Machine Learning\n",
    "%pip install scikit-learn\n",
    "%pip install numpy\n",
    "%pip install pandas\n",
    "\n",
    "# Visualization and Plotting\n",
    "%pip install matplotlib\n",
    "%pip install matplotlib_inline\n",
    "\n",
    "# Optimization\n",
    "%pip install cma"
   ]
  },
  {
   "cell_type": "markdown",
   "id": "2caa78d3",
   "metadata": {},
   "source": [
    "### Importing the Packages\n",
    "\n",
    "Following our installation of the packages, we need to import them to access the required methods and classes in our code. The imports are organized following Python conventions:\n",
    "\n",
    "- **Standard libraries**: Core Python packages for data manipulation and visualization\n",
    "- **Third-party and Scikit-learn libraries**: Specialized tools for optimization and machine learning\n",
    "- **Qiskit libraries**: Quantum computing framework components"
   ]
  },
  {
   "cell_type": "code",
   "execution_count": null,
   "id": "b4f8791a",
   "metadata": {},
   "outputs": [],
   "source": [
    "# Standard library imports\n",
    "import numpy as np\n",
    "import pandas as pd\n",
    "import matplotlib.pyplot as plt\n",
    "\n",
    "# Third-party optimization libraries\n",
    "import cma\n",
    "from scipy.optimize import minimize\n",
    "\n",
    "# Scikit-learn imports\n",
    "from sklearn.model_selection import train_test_split\n",
    "from sklearn.preprocessing import MinMaxScaler\n",
    "from sklearn.utils import shuffle\n",
    "\n",
    "# Qiskit imports\n",
    "import qiskit\n",
    "from qiskit import generate_preset_pass_manager\n",
    "from qiskit.circuit.library import real_amplitudes, zz_feature_map\n",
    "from qiskit.quantum_info import Statevector\n",
    "from qiskit_aer import AerSimulator\n",
    "from qiskit_ibm_runtime import QiskitRuntimeService, SamplerV2 as Sampler, Session"
   ]
  },
  {
   "cell_type": "markdown",
   "id": "ca46aaa8",
   "metadata": {},
   "source": [
    "A small check to ensure everything is okay:"
   ]
  },
  {
   "cell_type": "code",
   "execution_count": null,
   "id": "e3dba205",
   "metadata": {},
   "outputs": [],
   "source": [
    "# Check if Qiskit is installed and print the version\n",
    "if 'qiskit' in globals():\n",
    "    print(f\"Qiskit version: {qiskit.__version__}\") # The version of Qiskit which we are currently using is 2.1.1. In the future, methods and classes may change\n",
    "                                                   # or become deprecated, so it may be necessary to update the code accordingly.\n",
    "else:\n",
    "    print(\"Qiskit is not installed or not available in the current environment. Re-run the `Installing Required Packages` cell.\")"
   ]
  },
  {
   "cell_type": "markdown",
   "id": "c4fcd01d",
   "metadata": {},
   "source": [
    "---"
   ]
  },
  {
   "cell_type": "markdown",
   "id": "800f3c65",
   "metadata": {},
   "source": [
    "## Constants"
   ]
  },
  {
   "cell_type": "code",
   "execution_count": 22,
   "id": "baf2a214",
   "metadata": {},
   "outputs": [],
   "source": [
    "# ==== Quantum Circuit Parameters ====\n",
    "QUBIT_COUNT = 4           # Number of qubits (i.e., input features)\n",
    "SHOT_COUNT = 1024         # Number of shots (circuit executions per sample)\n",
    "CLASS_LABELS = ['healthy', 'diseased']  # Binary class labels used for classification\n",
    "\n",
    "# ==== Dataset and Preprocessing ====\n",
    "HEART_DATA_PATH = 'heartdata.csv'  # Path to the heart disease dataset CSV\n",
    "TEST_SIZE = 0.3                    # Test split size (30% for evaluation)\n",
    "\n",
    "# ==== Reproducibility ====\n",
    "RANDOM_STATE = 42         # Seed for consistent behavior across runs\n",
    "\n",
    "# ==== Optimization ====\n",
    "COBYLA_ITER_COUNT = 2     # Iteration limit for COBYLA optimizer\n",
    "CMA_ITER_COUNT = 2        # Function evaluation limit for CMA-ES optimizer\n",
    "USE_CMA = True            # Flag to choose CMA-ES (True) or COBYLA (False)\n",
    "PRINT_COST = True         # Print cost value at each step if True\n",
    "\n",
    "# ==== Testing ====\n",
    "TEST_ITER_COUNT = 3        # Number of test repetitions to average final accuracy\n",
    "\n",
    "# ==== Backend Selection ====\n",
    "USE_REAL_BACKEND = False   # If True, use real IBM Quantum backend; else use simulator\n",
    "REGION = 'eu-de'           # Region for Qiskit Runtime service: 'eu-de' or 'us-east'"
   ]
  },
  {
   "cell_type": "markdown",
   "id": "49e57c9d",
   "metadata": {},
   "source": [
    "---"
   ]
  },
  {
   "cell_type": "markdown",
   "id": "2c748ba0",
   "metadata": {},
   "source": [
    "## Data Preparation"
   ]
  },
  {
   "cell_type": "markdown",
   "id": "450656ec",
   "metadata": {},
   "source": [
    "### Data Normalization for Quantum Encoding\n",
    "\n",
    "This function loads and normalizes heart disease dataset features and labels for use in quantum machine learning applications.\n",
    "\n",
    "#### Source\n",
    "\n",
    "According to the paper:  \n",
    "**[Explainable Artificial Intelligence Framework for Multimodal Data Analysis](https://www.nature.com/articles/s41598-022-24633-4)**,  \n",
    "the most clinically relevant traits to diagnose cardiac disorders include:  \n",
    "`cp`, `ca`, `thal`, `age`, `thalach`, `chol`, `oldpeak`, and `sex`.\n",
    "\n",
    "Of these, the most important are:\n",
    "- `ca` (number of major vessels colored by fluoroscopy)  \n",
    "- `cp` (chest pain type)  \n",
    "- `thal` (thalassemia)  \n",
    "- `oldpeak` (ST depression induced by exercise)\n",
    "\n",
    "However, over half of the dataset contains missing values for `ca` and `thal`.  \n",
    "To preserve as much usable data as possible, we dropped these and selected features from those with minimal nulls.\n",
    "\n",
    "#### Feature Selection Rationale\n",
    "\n",
    "From the remaining mostly complete columns, we selected:\n",
    "- `cp` (chest pain type)  \n",
    "- `oldpeak` (ST depression induced by exercise)  \n",
    "- `sex` (gender)  \n",
    "- `exang` (exercise-induced angina)\n",
    "\n",
    "This decision was reinforced by multiple trials and confirmed during exploratory data analysis in [this notebook](https://github.com/rodneyosodo/variational-quantum-classifier-on-heartattack/blob/main/Src/Notebooks/01dataExploration.ipynb),\n",
    "where these features consistently ranked among the most defining predictors of heart disease.\n",
    "\n",
    "#### Final Selected Features\n",
    "\n",
    "- `cp`, `oldpeak`, `sex`, `exang`  \n",
    "These were chosen to match a 4-qubit quantum model.\n",
    "\n",
    "#### Output\n",
    "\n",
    "Returns the normalized training and test features and labels as a tuple.  \n",
    "Features are scaled to `(0, π)` to enable valid angle encoding for quantum gates (e.g. `Ry`, `Rx`)."
   ]
  },
  {
   "cell_type": "code",
   "execution_count": null,
   "id": "64193d35",
   "metadata": {},
   "outputs": [],
   "source": [
    "def normalize_data() -> tuple:\n",
    "    \"\"\"\n",
    "    Load and normalize heart disease dataset features and labels for quantum machine learning.\n",
    "\n",
    "    Selected 4 features — 'cp', 'oldpeak', 'sex', and 'exang' — are scaled to the range (0, π) \n",
    "    for angle encoding in quantum circuits.\n",
    "\n",
    "    These features were chosen based on feature importance, data completeness, and validation \n",
    "    through exploratory analysis.\n",
    "\n",
    "    Returns:\n",
    "        tuple: Normalized (X_train, X_test) features and (Y_train, Y_test) labels.\n",
    "    \"\"\"\n",
    "    # Load dataset and shuffle to randomize sample order\n",
    "    df = pd.read_csv(HEART_DATA_PATH)\n",
    "    df = shuffle(df, random_state=RANDOM_STATE)\n",
    "\n",
    "    # Select top 4 features for 4-qubit quantum encoding\n",
    "    X = df[['cp', 'oldpeak', 'sex', 'exang']].values\n",
    "    Y = df['num'].values\n",
    "\n",
    "    # Split before scaling to avoid data leakage\n",
    "    X_train, X_test, Y_train, Y_test = train_test_split(X, Y, test_size=TEST_SIZE, random_state=RANDOM_STATE)\n",
    "\n",
    "    # Normalize inputs between 0 and π for angle encoding\n",
    "    # The range (0, np.pi) is chosen to ensure that the angles used in quantum circuits are within a valid range for angle encoding.\n",
    "    # This is important for quantum circuits that use angle encoding (e.g. Rx, Ry gates), as angles outside this range may\n",
    "    # lead to incorrect results or inefficiencies in the quantum computation.\n",
    "    scaler = MinMaxScaler(feature_range=(0, np.pi))\n",
    "    X_train = scaler.fit_transform(X_train)\n",
    "    X_test = scaler.transform(X_test)\n",
    "\n",
    "    return X_train, X_test, Y_train, Y_test"
   ]
  },
  {
   "cell_type": "markdown",
   "id": "b2c3262e",
   "metadata": {},
   "source": [
    "Obtaining the actual train and test data:"
   ]
  },
  {
   "cell_type": "code",
   "execution_count": null,
   "id": "ae723974",
   "metadata": {},
   "outputs": [],
   "source": [
    "X_train, X_test, Y_train, Y_test = normalize_data()"
   ]
  },
  {
   "cell_type": "markdown",
   "id": "518253ac",
   "metadata": {},
   "source": [
    "---"
   ]
  },
  {
   "cell_type": "markdown",
   "id": "20c23334",
   "metadata": {},
   "source": [
    "## Quantum Circuit Preparation"
   ]
  },
  {
   "cell_type": "markdown",
   "id": "5d88864b",
   "metadata": {},
   "source": [
    "### Quantum Feature Map Initialization\n",
    "\n",
    "Initializes a ZZFeatureMap circuit to encode classical input features into a quantum state for machine learning.\n",
    "\n",
    "#### Configuration\n",
    "\n",
    "* **Initial state**: All qubits set to $|0\\rangle$\n",
    "* **Feature map**: ZZFeatureMap with linear entanglement\n",
    "* **Repetitions**: 2 layers for increased expressiveness\n",
    "* **Qubit count**: Equals number of input features"
   ]
  },
  {
   "cell_type": "code",
   "execution_count": null,
   "id": "6d02e533",
   "metadata": {},
   "outputs": [],
   "source": [
    "# Prepare the initial quantum state (all qubits in |0⟩ state)\n",
    "state = Statevector.from_label('0' * QUBIT_COUNT)\n",
    "\n",
    "# Create the ZZFeatureMap for encoding classical data into quantum states\n",
    "feature_map = zz_feature_map(\n",
    "    feature_dimension=QUBIT_COUNT, # Number of features/qubits\n",
    "    reps=2,                        # Number of repetitions of the feature map circuit\n",
    "    entanglement='linear'          # How qubits are entangled (linear = nearest neighbors)\n",
    ")\n",
    "\n",
    "# Visualize the feature map circuit\n",
    "feature_map.draw(output='mpl')"
   ]
  },
  {
   "cell_type": "markdown",
   "id": "90b1378d",
   "metadata": {},
   "source": [
    "### Ansatz Circuit Construction\n",
    "\n",
    "Defines the parameterized quantum circuit (ansatz) used for learning in a variational quantum algorithm.\n",
    "\n",
    "#### Configuration\n",
    "\n",
    "* **Circuit type**: RealAmplitudes\n",
    "* **Qubit count**: Matches the feature dimension\n",
    "* **Entanglement**: Linear pattern\n",
    "* **Repetitions**: 1 layer of parameterized gates"
   ]
  },
  {
   "cell_type": "code",
   "execution_count": null,
   "id": "ad9c13ff",
   "metadata": {},
   "outputs": [],
   "source": [
    "# Prepare the ansatz circuit used for parameterized learning\n",
    "# This circuit will be optimized during training\n",
    "ansatz = real_amplitudes(\n",
    "    num_qubits=QUBIT_COUNT,  # Number of qubits = number of features\n",
    "    reps=1,                  # One repetition layer of rotations + entanglement\n",
    "    entanglement='linear'    # Linear entanglement between qubits\n",
    ")\n",
    "\n",
    "# Visualize the decomposed circuit\n",
    "ansatz.decompose().draw(output='mpl')"
   ]
  },
  {
   "cell_type": "markdown",
   "id": "2cd3aaa8",
   "metadata": {},
   "source": [
    "### Quantum Circuit Composition\n",
    "\n",
    "Combines the data-encoding feature map with the parameterized ansatz circuit.\n",
    "\n",
    "#### Configuration\n",
    "\n",
    "* **Feature Map**: Encodes classical features into quantum states\n",
    "* **Ansatz**: Trainable circuit for learning patterns\n",
    "* **Output Circuit**: Used for quantum machine learning models"
   ]
  },
  {
   "cell_type": "code",
   "execution_count": null,
   "id": "7df64f08",
   "metadata": {},
   "outputs": [],
   "source": [
    "# Compose the full quantum circuit by combining feature map and ansatz\n",
    "# The feature map encodes the input data; ansatz is the trainable part\n",
    "circuit = feature_map.compose(ansatz, inplace=False)\n",
    "\n",
    "# Visualize the decomposed circuit with multiple repetitions for clarity\n",
    "circuit.decompose(reps=8).draw(output='mpl')"
   ]
  },
  {
   "cell_type": "markdown",
   "id": "bd1bbdbb",
   "metadata": {},
   "source": [
    "---"
   ]
  },
  {
   "cell_type": "markdown",
   "id": "885b8a0b",
   "metadata": {},
   "source": [
    "## Quantum Circuit Utility Functions"
   ]
  },
  {
   "cell_type": "markdown",
   "id": "04678a1b",
   "metadata": {},
   "source": [
    "### Parameter Dictionary Creation for Quantum Circuit\n",
    "\n",
    "This function creates a dictionary that maps parameters of both the feature map and ansatz circuits to their corresponding values.\n",
    "\n",
    "#### Output\n",
    "\n",
    "Returns a dictionary that associates each circuit parameter with its value, combining input features for the feature map and weights for the ansatz.  \n",
    "Used to bind values before running the quantum circuit."
   ]
  },
  {
   "cell_type": "code",
   "execution_count": null,
   "id": "d1fc1c90",
   "metadata": {},
   "outputs": [],
   "source": [
    "def get_data_dict(params: list, x: list) -> dict:\n",
    "    \"\"\"\n",
    "    Create a dictionary of parameters for the feature map and ansatz.\n",
    "\n",
    "    Args:\n",
    "        params (list): List of parameters for the ansatz (trainable weights).\n",
    "        x (list): List of features for the feature map (input data).\n",
    "\n",
    "    Returns:\n",
    "        dict: A dictionary mapping circuit parameters to their corresponding values.\n",
    "    \"\"\"\n",
    "    parameters = {}\n",
    "    for i, p in enumerate(feature_map.parameters):\n",
    "        parameters[p] = x[i]  # Bind feature values to feature map parameters\n",
    "    for i, p in enumerate(ansatz.parameters):\n",
    "        parameters[p] = params[i]  # Bind trainable ansatz parameters\n",
    "    return parameters"
   ]
  },
  {
   "cell_type": "markdown",
   "id": "a81f2264",
   "metadata": {},
   "source": [
    "### Label Assignment Based on Bit String Parity\n",
    "\n",
    "This function assigns a class label by calculating the parity of the Hamming weight (number of 1s) in a given bit string.\n",
    "\n",
    "#### Processing Details\n",
    "\n",
    "- Computes the Hamming weight of the bit string.\n",
    "- Determines if the parity (sum of bits) is even or odd.\n",
    "- Returns the first class label if parity is even, otherwise the second class label.\n",
    "\n",
    "#### Output\n",
    "\n",
    "Returns a class label based on the parity, useful for interpreting quantum measurement outcomes."
   ]
  },
  {
   "cell_type": "code",
   "execution_count": null,
   "id": "7f3679c4",
   "metadata": {},
   "outputs": [],
   "source": [
    "def assign_label(bit_string: str, class_labels: list) -> str:\n",
    "    \"\"\"\n",
    "    Assign a label based on the parity of the Hamming weight of the bit string.\n",
    "    Args:\n",
    "        bit_string (str): A string of bits representing the quantum state.\n",
    "        class_labels (list): A list of class labels, e.g., ['yes', 'no'].\n",
    "    Returns:\n",
    "        str: The assigned class label based on the parity of the Hamming weight.\n",
    "    \"\"\"\n",
    "    hamming_weight = sum([int(bit) for bit in list(bit_string)]) # Count the number of 1s in the bit string\n",
    "    is_odd_parity = hamming_weight & 1 # Check if the Hamming weight is odd (1) or even (0)\n",
    "    if is_odd_parity:\n",
    "        return class_labels[1] # Return the second class label for odd parity\n",
    "    else:\n",
    "        return class_labels[0] # Return the first class label for even parity"
   ]
  },
  {
   "cell_type": "markdown",
   "id": "2fd90098",
   "metadata": {},
   "source": [
    "### Probability Calculation from Quantum Measurement Counts\n",
    "\n",
    "This function computes the probability of each class label based on measurement outcomes (bit string counts) from a quantum circuit.\n",
    "\n",
    "#### Processing Details\n",
    "\n",
    "* Takes the counts of measured bit strings from quantum circuit runs.\n",
    "* Uses the `assign_label` function to classify each bit string based on parity.\n",
    "* Aggregates probabilities by summing the relative frequencies of bit strings assigned to each class.\n",
    "\n",
    "#### Output\n",
    "\n",
    "Returns a dictionary mapping each class label to its probability, representing the likelihood of the quantum circuit outputting that class."
   ]
  },
  {
   "cell_type": "code",
   "execution_count": null,
   "id": "2814e65e",
   "metadata": {},
   "outputs": [],
   "source": [
    "def return_probabilities(counts: dict) -> dict:\n",
    "    \"\"\"\n",
    "    Calculate the probabilities of each class label based on the counts of bit strings.\n",
    "    Args:\n",
    "        counts (dict): A dictionary containing the counts of bit strings.\n",
    "    Returns:\n",
    "        dict: A dictionary with class labels as keys and their probabilities as values.\n",
    "    \"\"\"\n",
    "    shots = sum(counts.values()) # Total number of shots (measurements)\n",
    "    result = {CLASS_LABELS[0]: 0, CLASS_LABELS[1]: 0} # Initialize result dictionary with class labels\n",
    "    for key in counts:\n",
    "        label = assign_label(key, CLASS_LABELS) # Assign label based on parity of the bit string\n",
    "        result[label] += counts[key] / shots # Normalize counts to probabilities\n",
    "    return result"
   ]
  },
  {
   "cell_type": "markdown",
   "id": "58451b3f",
   "metadata": {},
   "source": [
    "---"
   ]
  },
  {
   "cell_type": "markdown",
   "id": "dab83c0a",
   "metadata": {},
   "source": [
    "## Quantum Classification and Cost Functions"
   ]
  },
  {
   "cell_type": "markdown",
   "id": "8553ff3c",
   "metadata": {},
   "source": [
    "### Quantum Circuit Classification\n",
    "\n",
    "This function classifies multiple input feature vectors by running parameterized quantum circuits on a simulator or quantum backend.\n",
    "\n",
    "#### Processing Details\n",
    "\n",
    "* For each input feature vector:\n",
    "\n",
    "  * Binds feature data and ansatz parameters to the quantum circuit.\n",
    "  * Adds measurement operations to read out qubit states.\n",
    "  * Transpiles/prepares the circuit for execution.\n",
    "* Runs all circuits in batch on the quantum sampler.\n",
    "* Converts measurement results into class probabilities using parity-based labeling.\n",
    "\n",
    "#### Output\n",
    "\n",
    "Returns a list of dictionaries, each containing class labels and their associated probabilities for the corresponding input feature vector."
   ]
  },
  {
   "cell_type": "code",
   "execution_count": null,
   "id": "f09513e4",
   "metadata": {},
   "outputs": [],
   "source": [
    "def classify(x_list: list, params: list, sampler: any, pm: any) -> list:\n",
    "    \"\"\"\n",
    "    Classify a list of feature vectors using the quantum circuit.\n",
    "\n",
    "    Args:\n",
    "        x_list (list): A list of feature vectors to classify.\n",
    "        params (list): A list of parameters for the ansatz.\n",
    "        sampler: Quantum sampler backend to run the circuits. Either a simulator or a real quantum backend.\n",
    "        pm: Quantum processor manager or transpiler to prepare circuits.\n",
    "\n",
    "    Returns:\n",
    "        list of dict: Each dict contains class labels as keys and their probabilities as values.\n",
    "    \"\"\"\n",
    "    qc_list = []\n",
    "\n",
    "    for x in x_list:\n",
    "        # Bind input features and ansatz parameters to the circuit\n",
    "        classifier = circuit.assign_parameters(get_data_dict(params, x))\n",
    "        # Add measurement operations on all qubits\n",
    "        classifier.measure_all()\n",
    "\n",
    "        # Transpile or prepare the circuit for the backend\n",
    "        transpiled_circuit = pm.run(classifier)\n",
    "        qc_list.append(transpiled_circuit)\n",
    "\n",
    "    # Execute all circuits on the simulator or quantum backend\n",
    "    results = sampler.run(qc_list, shots=SHOT_COUNT).result()\n",
    "    probs = []\n",
    "\n",
    "    for qc in results:\n",
    "        # Extract counts of measurement outcomes\n",
    "        counts = qc.data.meas.get_counts()\n",
    "        # Convert counts to probabilities for each class label\n",
    "        prob = return_probabilities(counts)\n",
    "        probs.append(prob)\n",
    "\n",
    "    return probs"
   ]
  },
  {
   "cell_type": "markdown",
   "id": "e2358081",
   "metadata": {},
   "source": [
    "### Cost Functions"
   ]
  },
  {
   "cell_type": "markdown",
   "id": "8980b76c",
   "metadata": {},
   "source": [
    "#### Binary Cross-Entropy Cost\n",
    "\n",
    "This function calculates the Binary Cross-Entropy (BCE) loss for a predicted probability corresponding to the expected class label.\n",
    "\n",
    "##### Output\n",
    "\n",
    "Returns the BCE loss, a measure of how well the predicted probability matches the expected class (lower is better)."
   ]
  },
  {
   "cell_type": "code",
   "execution_count": null,
   "id": "61aaade6",
   "metadata": {},
   "outputs": [],
   "source": [
    "def binary_cross_entropy(probs: dict, expected_label: str) -> float:\n",
    "    \"\"\"\n",
    "    Calculate the Binary Cross-Entropy (BCE) cost function.\n",
    "\n",
    "    Args:\n",
    "        probs (dict): Predicted probabilities keyed by class labels (strings).\n",
    "        expected_label (str): The true class label.\n",
    "\n",
    "    Returns:\n",
    "        float: Binary Cross-Entropy loss value.\n",
    "    \"\"\"\n",
    "    eps = 1e-10  # Small value to avoid log(0) errors\n",
    "\n",
    "    # Get predicted probability for the expected label, clipped for numerical stability\n",
    "    p = probs.get(expected_label, 0.0)\n",
    "    p = np.clip(p, eps, 1 - eps)\n",
    "\n",
    "    # Compute BCE loss\n",
    "    return -np.log(p)"
   ]
  },
  {
   "cell_type": "markdown",
   "id": "571ccf52",
   "metadata": {},
   "source": [
    "#### Cost Function for Quantum Circuit Training\n",
    "\n",
    "Calculates the average loss over the dataset by comparing predicted probabilities against expected labels using Binary Cross-Entropy.\n",
    "\n",
    "##### Output\n",
    "\n",
    "Returns the average cost (loss), which guides optimization of the quantum circuit parameters."
   ]
  },
  {
   "cell_type": "code",
   "execution_count": null,
   "id": "d6f28c5a",
   "metadata": {},
   "outputs": [],
   "source": [
    "def cost_function(X: list, Y: list, params: list, cost_list: list, sampler: any, pm: any) -> float:\n",
    "    \"\"\"\n",
    "    Calculate the average cost over the dataset using given parameters.\n",
    "\n",
    "    Args:\n",
    "        X (list): Feature vectors to classify.\n",
    "        Y (list): Corresponding labels (0 or 1).\n",
    "        params (list): Parameters for the ansatz circuit.\n",
    "        cost_list (list): List to store the computed cost values.\n",
    "        sampler: Quantum sampler backend to run the circuits. Either a simulator or a real quantum backend.\n",
    "        pm: Quantum processor manager or transpiler to prepare circuits.\n",
    "\n",
    "    Returns:\n",
    "        float: Average cost over all samples.\n",
    "    \"\"\"\n",
    "    cost = 0\n",
    "    training_labels = []\n",
    "    training_samples = []\n",
    "\n",
    "    # Prepare samples and convert labels to string class labels\n",
    "    for sample in X:\n",
    "        training_samples.append(sample)\n",
    "    for label in Y:\n",
    "        if label == 0:\n",
    "            training_labels.append(CLASS_LABELS[0])\n",
    "        elif label == 1:\n",
    "            training_labels.append(CLASS_LABELS[1])\n",
    "\n",
    "    # Classify samples using the current parameters\n",
    "    probs = classify(training_samples, params, sampler, pm)\n",
    "\n",
    "    # Calculate binary cross-entropy cost for each sample and sum\n",
    "    for i, prob in enumerate(probs):\n",
    "        cost += binary_cross_entropy(prob, training_labels[i])\n",
    "\n",
    "    # Average cost over all samples\n",
    "    cost /= len(training_samples)\n",
    "\n",
    "    # Optionally print the cost, if enabled\n",
    "    if PRINT_COST:\n",
    "        step = len(cost_list) + 1\n",
    "        if not USE_CMA:\n",
    "            max_iters = COBYLA_ITER_COUNT\n",
    "            print(f\"[{step}/{max_iters}]: Current cost (BCE) = {cost:.6f}\")\n",
    "        else:\n",
    "            d = QUBIT_COUNT * 2 * 2\n",
    "            pop_size = 4 + int(3 * np.log(d))\n",
    "            max_iters = CMA_ITER_COUNT\n",
    "            # Print every pop_size steps and also at the first step\n",
    "            if step == 1 or step % pop_size == 0:\n",
    "                print(f\"[{step}/{max_iters}]: Current cost (BCE) = {cost:.6f}\")\n",
    "\n",
    "    # Store cost value for tracking\n",
    "    cost_list.append(cost)\n",
    "    return cost"
   ]
  },
  {
   "cell_type": "markdown",
   "id": "134db617",
   "metadata": {},
   "source": [
    "---"
   ]
  },
  {
   "cell_type": "code",
   "execution_count": null,
   "id": "5b18d850",
   "metadata": {},
   "outputs": [],
   "source": [
    "# Set up runtime service based on region\n",
    "service = QiskitRuntimeService(name=\"freeya\")\n",
    "\n",
    "if USE_REAL_BACKEND:\n",
    "    if REGION == 'us-east':\n",
    "        service = QiskitRuntimeService(name=\"freeya-us\") # In the case that we use a real backend, the region matters due to availability of backends.\n",
    "                                                         # When we use simulations, regions do not matter so we can use a default QPU e.g. ibm_aachen\n",
    "\n",
    "    # Get least busy real backend\n",
    "    backend = service.least_busy(service.backends(\n",
    "        filters=lambda b: not b.configuration().simulator and b.status().operational))\n",
    "    \n",
    "    session = Session(service=service, backend=backend)\n",
    "    sampler = Sampler(session=session)\n",
    "\n",
    "    print(f\"Using real backend: {backend.name}\")\n",
    "else:\n",
    "    # Use AerSimulator mimicking a real backend layout (Heron r2)\n",
    "    real_backend = service.backend(\"ibm_aachen\")  # Only used as template\n",
    "    backend = AerSimulator().from_backend(real_backend)\n",
    "\n",
    "    sampler = Sampler(mode= backend)\n",
    "    print(\"Using AerSimulator based on ibm_aachen\")\n",
    "\n",
    "# Prepare pass manager\n",
    "pm = generate_preset_pass_manager(backend=backend, optimization_level=3)\n",
    "\n",
    "# Transpile and analyze the circuit\n",
    "transpiled_circuit = pm.run(circuit)\n",
    "depth_2q = transpiled_circuit.depth(lambda x: len(x.qubits) == 2)\n",
    "print(f\"Depth of two-qubit gates: {depth_2q}\")\n",
    "\n",
    "# Draw the circuit\n",
    "transpiled_circuit.draw(output=\"mpl\", idle_wires=False, fold=40)"
   ]
  },
  {
   "cell_type": "code",
   "execution_count": null,
   "id": "42d16c6f",
   "metadata": {},
   "outputs": [],
   "source": [
    "cost_list = []\n",
    "\n",
    "\n",
    "# For reproducibility\n",
    "\n",
    "\n",
    "np.random.seed(RANDOM_STATE)\n",
    "\n",
    "\n",
    "# Initialize parameters randomly in [0, 2π]\n",
    "\n",
    "\n",
    "init_params = 2 * np.pi * np.random.rand(QUBIT_COUNT * 2 * 2)\n",
    "\n",
    "\n",
    "# Define the objective function\n",
    "\n",
    "\n",
    "objective_function = lambda params: cost_function(X_train, Y_train, params, cost_list, sampler, pm)\n",
    "\n",
    "\n",
    "# Choose optimizer\n",
    "\n",
    "\n",
    "if USE_CMA:\n",
    "\n",
    "\n",
    "    # CMA-ES optimizer (Covariance Matrix Adaptation Evolution Strategy - evolutionary strategy)\n",
    "\n",
    "\n",
    "    sigma0 = 0.1\n",
    "\n",
    "\n",
    "    N = QUBIT_COUNT * 2 * 2\n",
    "\n",
    "\n",
    "    popsize = 4 + int(3 * np.log(N))\n",
    "\n",
    "\n",
    "    # Default maxiter formula from CMA-ES docs: 100 + 150 * (N+3)**2 // popsize**0.5\n",
    "\n",
    "\n",
    "    maxiter = int(100 + 150 * (N+3)**2 // (popsize**0.5))\n",
    "\n",
    "\n",
    "    result = cma.fmin2(\n",
    "        objective_function,\n",
    "        x0=init_params,\n",
    "        sigma0=sigma0,\n",
    "        options={\n",
    "            'maxiter': maxiter,\n",
    "            'verb_disp': 0\n",
    "        },\n",
    "        noise_handler=cma.NoiseHandler(len(init_params))\n",
    "    )\n",
    "\n",
    "\n",
    "    optimized_params = result[0]\n",
    "\n",
    "\n",
    "    print(\"Optimization completed using CMA-ES.\")\n",
    "\n",
    "\n",
    "else:\n",
    "\n",
    "\n",
    "    # COBYLA optimizer (Constrained Optimization BY Linear Approximations - derivative-free)\n",
    "\n",
    "\n",
    "    result = minimize(\n",
    "        objective_function,\n",
    "        x0=init_params,\n",
    "        method='COBYLA',\n",
    "        options={'maxiter': COBYLA_ITER_COUNT}\n",
    "\n",
    "\n",
    "    )\n",
    "\n",
    "\n",
    "    optimized_params = result.x\n",
    "\n",
    "\n",
    "    print(\"Optimization finished.\")\n",
    "\n"
   ]
  },
  {
   "cell_type": "code",
   "execution_count": null,
   "id": "5478ab10",
   "metadata": {},
   "outputs": [],
   "source": [
    "if USE_CMA:\n",
    "    print(\"Optimization completed using CMA-ES.\")\n",
    "    print(\"Optimized Parameters:\", result[0])\n",
    "    print(\"Final Cost Value:\", result[1].best.f)\n",
    "else:\n",
    "    print(\"Optimization completed using COBYLA.\")\n",
    "    print(\"Optimized Parameters:\", result.x)\n",
    "    print(\"Final Cost Value:\", result.fun)"
   ]
  },
  {
   "cell_type": "markdown",
   "id": "a7b31998",
   "metadata": {},
   "source": [
    "---"
   ]
  },
  {
   "cell_type": "markdown",
   "id": "cb4fef2a",
   "metadata": {},
   "source": [
    "## Result Visualization"
   ]
  },
  {
   "cell_type": "markdown",
   "id": "75dddb26",
   "metadata": {},
   "source": [
    "### Cost Function Evolution\n",
    "\n",
    "This section visualizes the evolution of the cost function during the training of a variational quantum classifier.\n",
    "\n",
    "We track how the cost value (Binary Cross-Entropy in our case) decreases as the optimizer adjusts the parameters over multiple steps."
   ]
  },
  {
   "cell_type": "code",
   "execution_count": 21,
   "id": "07dc5d22",
   "metadata": {},
   "outputs": [
    {
     "data": {
      "image/png": "[encoded data removed]",
      "text/plain": [
       "<Figure size 640x480 with 1 Axes>"
      ]
     },
     "metadata": {},
     "output_type": "display_data"
    }
   ],
   "source": [
    "# Create a new figure for plotting\n",
    "fig = plt.figure()\n",
    "\n",
    "# Plot the cost value against optimization step index\n",
    "plt.plot(range(len(cost_list)), cost_list)\n",
    "\n",
    "# Label x and y axes\n",
    "plt.xlabel('Steps')\n",
    "plt.ylabel('Cost value')\n",
    "\n",
    "# Set the plot title based on the optimizer used\n",
    "if USE_CMA:\n",
    "    plt.title(\"CMA-ES BCE Cost value against steps\")\n",
    "else:\n",
    "    plt.title(\"COBYLA BCE Cost value against steps\")\n",
    "\n",
    "# Display the plot\n",
    "plt.show()"
   ]
  },
  {
   "cell_type": "markdown",
   "id": "991f52f8",
   "metadata": {},
   "source": [
    "### Quantum Classifier Testing\n",
    "\n",
    "This function evaluates the accuracy of a trained quantum classifier on test data using a provided backend and transpiler.\n",
    "\n",
    "#### Processing Details\n",
    "\n",
    "* Predicts class probabilities for each test sample using `classify()`.\n",
    "* Compares predicted label (`healthy` or `diseased`) with the true label.\n",
    "* Computes the proportion of correct predictions as the test accuracy.\n",
    "* Supports repeated evaluation to average out quantum noise or randomness.\n",
    "\n",
    "#### Output\n",
    "\n",
    "Prints individual and average test accuracy across multiple iterations."
   ]
  },
  {
   "cell_type": "code",
   "execution_count": 23,
   "id": "82b65b7b",
   "metadata": {},
   "outputs": [
    {
     "ename": "NameError",
     "evalue": "name 'result' is not defined",
     "output_type": "error",
     "traceback": [
      "\u001b[31m---------------------------------------------------------------------------\u001b[39m",
      "\u001b[31mNameError\u001b[39m                                 Traceback (most recent call last)",
      "\u001b[36mCell\u001b[39m\u001b[36m \u001b[39m\u001b[32mIn[23]\u001b[39m\u001b[32m, line 19\u001b[39m\n\u001b[32m     17\u001b[39m \u001b[38;5;28miter\u001b[39m = TEST_ITER_COUNT\n\u001b[32m     18\u001b[39m \u001b[38;5;28;01mfor\u001b[39;00m i \u001b[38;5;129;01min\u001b[39;00m \u001b[38;5;28mrange\u001b[39m (\u001b[38;5;28miter\u001b[39m):\n\u001b[32m---> \u001b[39m\u001b[32m19\u001b[39m     total += test_model(X_test, Y_test, \u001b[43mresult\u001b[49m.x, sampler, pm)\n\u001b[32m     20\u001b[39m \u001b[38;5;28mprint\u001b[39m(\u001b[33mf\u001b[39m\u001b[33m\"\u001b[39m\u001b[33mAverage Test Accuracy over \u001b[39m\u001b[38;5;132;01m{\u001b[39;00m\u001b[38;5;28miter\u001b[39m\u001b[38;5;132;01m}\u001b[39;00m\u001b[33m iterations: \u001b[39m\u001b[38;5;132;01m{\u001b[39;00mtotal\u001b[38;5;250m \u001b[39m/\u001b[38;5;250m \u001b[39m\u001b[38;5;28miter\u001b[39m\u001b[38;5;132;01m}\u001b[39;00m\u001b[33m\"\u001b[39m)\n",
      "\u001b[31mNameError\u001b[39m: name 'result' is not defined"
     ]
    }
   ],
   "source": [
    "def test_model(X: list, Y: list, params: list, sampler: any, pm: any) -> float:\n",
    "    \"\"\"\n",
    "    Evaluate the accuracy of a trained quantum classifier on a test dataset.\n",
    "\n",
    "    Args:\n",
    "        X (list): Test feature samples.\n",
    "        Y (list): Ground truth labels (0 = healthy, 1 = diseased).\n",
    "        params (list): Optimized quantum circuit parameters.\n",
    "        sampler: Quantum sampler backend to run the circuits. Either a simulator or a real quantum backend.\n",
    "        pm: Quantum processor manager or transpiler to prepare circuits.\n",
    "\n",
    "    Returns:\n",
    "        float: Accuracy of the classifier on the test data.\n",
    "    \"\"\"\n",
    "    correct = 0\n",
    "    training_samples = X\n",
    "\n",
    "    # Get class probability predictions for each test sample\n",
    "    probs = classify(training_samples, params, sampler, pm)\n",
    "\n",
    "    # Compare predictions with ground truth\n",
    "    for i, prob in enumerate(probs):\n",
    "        predicted_label = 0 if prob.get(CLASS_LABELS[0], 0) >= prob.get(CLASS_LABELS[1], 0) else 1\n",
    "        true_label = Y[i]\n",
    "        if predicted_label == true_label:\n",
    "            correct += 1\n",
    "\n",
    "    accuracy = correct / len(Y)\n",
    "    print(f\"[Test Accuracy] {accuracy:.4f} ({correct}/{len(Y)} correct predictions)\")\n",
    "    return accuracy"
   ]
  },
  {
   "cell_type": "code",
   "execution_count": null,
   "id": "abf0ad51",
   "metadata": {},
   "outputs": [],
   "source": [
    "# We run model test multiple times and report the average accuracy\n",
    "total = 0\n",
    "\n",
    "print(f\"Running model testing over {TEST_ITER_COUNT} iterations...\\n\")\n",
    "for i in range(TEST_ITER_COUNT):\n",
    "    if USE_CMA:\n",
    "        acc = test_model(X_test, Y_test, result[1].best.x, sampler, pm)\n",
    "    else:\n",
    "        acc = test_model(X_test, Y_test, result.x, sampler, pm)\n",
    "    print(f\"Iteration {i+1} → Accuracy: {acc:.4f}\\n\")\n",
    "    total += acc\n",
    "avg = total / TEST_ITER_COUNT\n",
    "\n",
    "print(f\"\\nAverage Test Accuracy over {TEST_ITER_COUNT} iterations: {avg:.4f}\")"
   ]
  }
 ],
 "metadata": {
  "kernelspec": {
   "display_name": "Python 3",
   "language": "python",
   "name": "python3"
  },
  "language_info": {
   "codemirror_mode": {
    "name": "ipython",
    "version": 3
   },
   "file_extension": ".py",
   "mimetype": "text/x-python",
   "name": "python",
   "nbconvert_exporter": "python",
   "pygments_lexer": "ipython3",
   "version": "3.11.4"
  }
 },
 "nbformat": 4,
 "nbformat_minor": 5
}
